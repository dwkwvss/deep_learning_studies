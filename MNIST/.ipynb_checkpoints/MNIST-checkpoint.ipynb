{
 "cells": [
  {
   "cell_type": "code",
   "execution_count": 1,
   "metadata": {},
   "outputs": [
    {
     "name": "stderr",
     "output_type": "stream",
     "text": [
      "/home/siddhant/anaconda3/lib/python3.6/importlib/_bootstrap.py:205: RuntimeWarning: compiletime version 3.5 of module 'tensorflow.python.framework.fast_tensor_util' does not match runtime version 3.6\n",
      "  return f(*args, **kwds)\n"
     ]
    },
    {
     "name": "stdout",
     "output_type": "stream",
     "text": [
      "Extracting MNIST_data/train-images-idx3-ubyte.gz\n",
      "Extracting MNIST_data/train-labels-idx1-ubyte.gz\n",
      "Extracting MNIST_data/t10k-images-idx3-ubyte.gz\n",
      "Extracting MNIST_data/t10k-labels-idx1-ubyte.gz\n"
     ]
    }
   ],
   "source": [
    "#Downloading dataset\n",
    "from tensorflow.examples.tutorials.mnist import input_data\n",
    "mnist = input_data.read_data_sets('MNIST_data', one_hot=True)"
   ]
  },
  {
   "cell_type": "code",
   "execution_count": 2,
   "metadata": {
    "collapsed": true
   },
   "outputs": [],
   "source": [
    "#Create session\n",
    "import tensorflow as tf\n",
    "sess = tf.InteractiveSession()"
   ]
  },
  {
   "cell_type": "code",
   "execution_count": 3,
   "metadata": {
    "collapsed": true
   },
   "outputs": [],
   "source": [
    "#Create placeholder tensors in appropriate shape\n",
    "\n",
    "#28x28 image size\n",
    "x = tf.placeholder(tf.float32, shape=[None, 784])\n",
    "#Ten possible outputs\n",
    "y_ = tf.placeholder(tf.float32, shape=[None, 10])"
   ]
  },
  {
   "cell_type": "code",
   "execution_count": 4,
   "metadata": {
    "collapsed": true
   },
   "outputs": [],
   "source": [
    "#Initialize matrices with all zeroes\n",
    "W = tf.Variable(tf.ones([784,10]))\n",
    "b = tf.Variable(tf.ones([10]))"
   ]
  },
  {
   "cell_type": "code",
   "execution_count": 5,
   "metadata": {
    "collapsed": true
   },
   "outputs": [],
   "source": [
    "#Initalize variables into the session\n",
    "sess.run(tf.global_variables_initializer())"
   ]
  },
  {
   "cell_type": "code",
   "execution_count": 6,
   "metadata": {
    "collapsed": true
   },
   "outputs": [],
   "source": [
    "#Basic Regression\n",
    "y = tf.matmul(x,W) + b"
   ]
  },
  {
   "cell_type": "code",
   "execution_count": 7,
   "metadata": {
    "collapsed": true
   },
   "outputs": [],
   "source": [
    "#Softmax loss function\n",
    "cross_entropy = tf.reduce_mean(\n",
    "    tf.nn.softmax_cross_entropy_with_logits(labels=y_, logits=y))"
   ]
  },
  {
   "cell_type": "code",
   "execution_count": 8,
   "metadata": {
    "collapsed": true
   },
   "outputs": [],
   "source": [
    "#Training the Data\n",
    "train_step = tf.train.GradientDescentOptimizer(0.001).minimize(cross_entropy)"
   ]
  },
  {
   "cell_type": "code",
   "execution_count": 9,
   "metadata": {
    "collapsed": true
   },
   "outputs": [],
   "source": [
    "#Batch training\n",
    "for _ in range(100):\n",
    "  batch = mnist.train.next_batch(1000)\n",
    "  train_step.run(feed_dict={x: batch[0], y_: batch[1]})"
   ]
  },
  {
   "cell_type": "code",
   "execution_count": 10,
   "metadata": {
    "collapsed": true
   },
   "outputs": [],
   "source": [
    "#Prediction\n",
    "correct_prediction = tf.equal(tf.argmax(y,1), tf.argmax(y_,1))"
   ]
  },
  {
   "cell_type": "code",
   "execution_count": 11,
   "metadata": {},
   "outputs": [
    {
     "name": "stdout",
     "output_type": "stream",
     "text": [
      "0.7005\n"
     ]
    }
   ],
   "source": [
    "#Checking on test images\n",
    "accuracy = tf.reduce_mean(tf.cast(correct_prediction, tf.float32))\n",
    "print(accuracy.eval(feed_dict={x: mnist.test.images, y_: mnist.test.labels}))"
   ]
  },
  {
   "cell_type": "code",
   "execution_count": 12,
   "metadata": {
    "collapsed": true
   },
   "outputs": [],
   "source": [
    "def weight_variable(shape):\n",
    "  initial = tf.truncated_normal(shape, stddev=0.1)\n",
    "  return tf.Variable(initial)\n",
    "\n",
    "def bias_variable(shape):\n",
    "  initial = tf.constant(0.1, shape=shape)\n",
    "  return tf.Variable(initial)"
   ]
  },
  {
   "cell_type": "code",
   "execution_count": 13,
   "metadata": {
    "collapsed": true
   },
   "outputs": [],
   "source": [
    "def conv2d(x, W):\n",
    "  return tf.nn.conv2d(x, W, strides=[1, 1, 1, 1], padding='SAME')\n",
    "\n",
    "def max_pool_2x2(x):\n",
    "  return tf.nn.max_pool(x, ksize=[1, 2, 2, 1],\n",
    "                        strides=[1, 2, 2, 1], padding='SAME')"
   ]
  },
  {
   "cell_type": "code",
   "execution_count": 14,
   "metadata": {
    "collapsed": true
   },
   "outputs": [],
   "source": [
    "W_conv1 = weight_variable([5, 5, 1, 32])\n",
    "b_conv1 = bias_variable([32])"
   ]
  },
  {
   "cell_type": "code",
   "execution_count": 15,
   "metadata": {
    "collapsed": true
   },
   "outputs": [],
   "source": [
    "x_image = tf.reshape(x, [-1, 28, 28, 1])"
   ]
  },
  {
   "cell_type": "code",
   "execution_count": 16,
   "metadata": {
    "collapsed": true
   },
   "outputs": [],
   "source": [
    "#Input layer\n",
    "h_conv1 = tf.nn.relu(conv2d(x_image, W_conv1) + b_conv1)\n",
    "h_pool1 = max_pool_2x2(h_conv1)"
   ]
  },
  {
   "cell_type": "code",
   "execution_count": 17,
   "metadata": {
    "collapsed": true
   },
   "outputs": [],
   "source": [
    "#First Hidden Layers\n",
    "W_conv2 = weight_variable([5, 5, 32, 64])\n",
    "b_conv2 = bias_variable([64])\n",
    "\n",
    "h_conv2 = tf.nn.relu(conv2d(h_pool1, W_conv2) + b_conv2)\n",
    "h_pool2 = max_pool_2x2(h_conv2)"
   ]
  },
  {
   "cell_type": "code",
   "execution_count": 18,
   "metadata": {
    "collapsed": true
   },
   "outputs": [],
   "source": [
    "#Second Hidden Layer\n",
    "W_fc1 = weight_variable([7 * 7 * 64, 1024])\n",
    "b_fc1 = bias_variable([1024])\n",
    "\n",
    "h_pool2_flat = tf.reshape(h_pool2, [-1, 7*7*64])\n",
    "h_fc1 = tf.nn.relu(tf.matmul(h_pool2_flat, W_fc1) + b_fc1)"
   ]
  },
  {
   "cell_type": "code",
   "execution_count": 19,
   "metadata": {
    "collapsed": true
   },
   "outputs": [],
   "source": [
    "keep_prob = tf.placeholder(tf.float32)\n",
    "h_fc1_drop = tf.nn.dropout(h_fc1, keep_prob)"
   ]
  },
  {
   "cell_type": "code",
   "execution_count": 20,
   "metadata": {
    "collapsed": true
   },
   "outputs": [],
   "source": [
    "W_fc2 = weight_variable([1024, 10])\n",
    "b_fc2 = bias_variable([10])\n",
    "\n",
    "y_conv = tf.matmul(h_fc1_drop, W_fc2) + b_fc2"
   ]
  },
  {
   "cell_type": "code",
   "execution_count": 21,
   "metadata": {
    "collapsed": true
   },
   "outputs": [],
   "source": [
    "cross_entropy = tf.reduce_mean(\n",
    "    tf.nn.softmax_cross_entropy_with_logits(labels=y_, logits=y_conv))\n",
    "train_step = tf.train.AdamOptimizer(1e-4).minimize(cross_entropy)\n",
    "correct_prediction = tf.equal(tf.argmax(y_conv, 1), tf.argmax(y_, 1))\n",
    "accuracy = tf.reduce_mean(tf.cast(correct_prediction, tf.float32))"
   ]
  },
  {
   "cell_type": "code",
   "execution_count": null,
   "metadata": {
    "collapsed": true
   },
   "outputs": [],
   "source": [
    "\n",
    "batch_tx, batch_ty = mnist.test.next_batch(10)\n",
    "print(\"test accuracy %g\"%accuracy.eval(feed_dict={x:batch_tx, y_: batch_ty, keep_prob: 1.0}))"
   ]
  },
  {
   "cell_type": "code",
   "execution_count": 32,
   "metadata": {},
   "outputs": [
    {
     "name": "stdout",
     "output_type": "stream",
     "text": [
      "step 0, training accuracy 0.08\n",
      "step 100, training accuracy 0.88\n",
      "step 200, training accuracy 0.82\n",
      "step 300, training accuracy 0.84\n",
      "step 400, training accuracy 0.94\n",
      "step 500, training accuracy 0.96\n",
      "step 600, training accuracy 0.88\n",
      "step 700, training accuracy 0.98\n",
      "step 800, training accuracy 0.98\n",
      "step 900, training accuracy 0.94\n",
      "Tensor(\"Cast_404/x:0\", shape=(), dtype=float32)\n",
      "Tensor(\"Cast_405/x:0\", shape=(), dtype=float32)\n",
      "Tensor(\"Cast_406/x:0\", shape=(), dtype=float32)\n",
      "Tensor(\"Cast_407/x:0\", shape=(), dtype=float32)\n",
      "Tensor(\"Cast_408/x:0\", shape=(), dtype=float32)\n",
      "Tensor(\"Cast_409/x:0\", shape=(), dtype=float32)\n",
      "Tensor(\"Cast_410/x:0\", shape=(), dtype=float32)\n",
      "Tensor(\"Cast_411/x:0\", shape=(), dtype=float32)\n",
      "Tensor(\"Cast_412/x:0\", shape=(), dtype=float32)\n",
      "Tensor(\"Cast_413/x:0\", shape=(), dtype=float32)\n",
      "Tensor(\"Cast_414/x:0\", shape=(), dtype=float32)\n",
      "Tensor(\"Cast_415/x:0\", shape=(), dtype=float32)\n",
      "Tensor(\"Cast_416/x:0\", shape=(), dtype=float32)\n",
      "Tensor(\"Cast_417/x:0\", shape=(), dtype=float32)\n",
      "Tensor(\"Cast_418/x:0\", shape=(), dtype=float32)\n",
      "Tensor(\"Cast_419/x:0\", shape=(), dtype=float32)\n",
      "Tensor(\"Cast_420/x:0\", shape=(), dtype=float32)\n",
      "Tensor(\"Cast_421/x:0\", shape=(), dtype=float32)\n",
      "Tensor(\"Cast_422/x:0\", shape=(), dtype=float32)\n",
      "Tensor(\"Cast_423/x:0\", shape=(), dtype=float32)\n",
      "Tensor(\"Cast_424/x:0\", shape=(), dtype=float32)\n",
      "Tensor(\"Cast_425/x:0\", shape=(), dtype=float32)\n",
      "Tensor(\"Cast_426/x:0\", shape=(), dtype=float32)\n",
      "Tensor(\"Cast_427/x:0\", shape=(), dtype=float32)\n",
      "Tensor(\"Cast_428/x:0\", shape=(), dtype=float32)\n",
      "Tensor(\"Cast_429/x:0\", shape=(), dtype=float32)\n",
      "Tensor(\"Cast_430/x:0\", shape=(), dtype=float32)\n",
      "Tensor(\"Cast_431/x:0\", shape=(), dtype=float32)\n",
      "Tensor(\"Cast_432/x:0\", shape=(), dtype=float32)\n",
      "Tensor(\"Cast_433/x:0\", shape=(), dtype=float32)\n",
      "Tensor(\"Cast_434/x:0\", shape=(), dtype=float32)\n",
      "Tensor(\"Cast_435/x:0\", shape=(), dtype=float32)\n",
      "Tensor(\"Cast_436/x:0\", shape=(), dtype=float32)\n",
      "Tensor(\"Cast_437/x:0\", shape=(), dtype=float32)\n",
      "Tensor(\"Cast_438/x:0\", shape=(), dtype=float32)\n",
      "Tensor(\"Cast_439/x:0\", shape=(), dtype=float32)\n",
      "Tensor(\"Cast_440/x:0\", shape=(), dtype=float32)\n",
      "Tensor(\"Cast_441/x:0\", shape=(), dtype=float32)\n",
      "Tensor(\"Cast_442/x:0\", shape=(), dtype=float32)\n",
      "Tensor(\"Cast_443/x:0\", shape=(), dtype=float32)\n",
      "Tensor(\"Cast_444/x:0\", shape=(), dtype=float32)\n",
      "Tensor(\"Cast_445/x:0\", shape=(), dtype=float32)\n",
      "Tensor(\"Cast_446/x:0\", shape=(), dtype=float32)\n",
      "Tensor(\"Cast_447/x:0\", shape=(), dtype=float32)\n",
      "Tensor(\"Cast_448/x:0\", shape=(), dtype=float32)\n",
      "Tensor(\"Cast_449/x:0\", shape=(), dtype=float32)\n",
      "Tensor(\"Cast_450/x:0\", shape=(), dtype=float32)\n",
      "Tensor(\"Cast_451/x:0\", shape=(), dtype=float32)\n",
      "Tensor(\"Cast_452/x:0\", shape=(), dtype=float32)\n",
      "Tensor(\"Cast_453/x:0\", shape=(), dtype=float32)\n",
      "Tensor(\"Cast_454/x:0\", shape=(), dtype=float32)\n",
      "Tensor(\"Cast_455/x:0\", shape=(), dtype=float32)\n",
      "Tensor(\"Cast_456/x:0\", shape=(), dtype=float32)\n",
      "Tensor(\"Cast_457/x:0\", shape=(), dtype=float32)\n",
      "Tensor(\"Cast_458/x:0\", shape=(), dtype=float32)\n",
      "Tensor(\"Cast_459/x:0\", shape=(), dtype=float32)\n",
      "Tensor(\"Cast_460/x:0\", shape=(), dtype=float32)\n",
      "Tensor(\"Cast_461/x:0\", shape=(), dtype=float32)\n",
      "Tensor(\"Cast_462/x:0\", shape=(), dtype=float32)\n",
      "Tensor(\"Cast_463/x:0\", shape=(), dtype=float32)\n",
      "Tensor(\"Cast_464/x:0\", shape=(), dtype=float32)\n",
      "Tensor(\"Cast_465/x:0\", shape=(), dtype=float32)\n",
      "Tensor(\"Cast_466/x:0\", shape=(), dtype=float32)\n",
      "Tensor(\"Cast_467/x:0\", shape=(), dtype=float32)\n",
      "Tensor(\"Cast_468/x:0\", shape=(), dtype=float32)\n",
      "Tensor(\"Cast_469/x:0\", shape=(), dtype=float32)\n",
      "Tensor(\"Cast_470/x:0\", shape=(), dtype=float32)\n",
      "Tensor(\"Cast_471/x:0\", shape=(), dtype=float32)\n",
      "Tensor(\"Cast_472/x:0\", shape=(), dtype=float32)\n",
      "Tensor(\"Cast_473/x:0\", shape=(), dtype=float32)\n",
      "Tensor(\"Cast_474/x:0\", shape=(), dtype=float32)\n",
      "Tensor(\"Cast_475/x:0\", shape=(), dtype=float32)\n",
      "Tensor(\"Cast_476/x:0\", shape=(), dtype=float32)\n",
      "Tensor(\"Cast_477/x:0\", shape=(), dtype=float32)\n",
      "Tensor(\"Cast_478/x:0\", shape=(), dtype=float32)\n",
      "Tensor(\"Cast_479/x:0\", shape=(), dtype=float32)\n",
      "Tensor(\"Cast_480/x:0\", shape=(), dtype=float32)\n",
      "Tensor(\"Cast_481/x:0\", shape=(), dtype=float32)\n",
      "Tensor(\"Cast_482/x:0\", shape=(), dtype=float32)\n",
      "Tensor(\"Cast_483/x:0\", shape=(), dtype=float32)\n",
      "Tensor(\"Cast_484/x:0\", shape=(), dtype=float32)\n",
      "Tensor(\"Cast_485/x:0\", shape=(), dtype=float32)\n",
      "Tensor(\"Cast_486/x:0\", shape=(), dtype=float32)\n",
      "Tensor(\"Cast_487/x:0\", shape=(), dtype=float32)\n",
      "Tensor(\"Cast_488/x:0\", shape=(), dtype=float32)\n",
      "Tensor(\"Cast_489/x:0\", shape=(), dtype=float32)\n",
      "Tensor(\"Cast_490/x:0\", shape=(), dtype=float32)\n",
      "Tensor(\"Cast_491/x:0\", shape=(), dtype=float32)\n",
      "Tensor(\"Cast_492/x:0\", shape=(), dtype=float32)\n",
      "Tensor(\"Cast_493/x:0\", shape=(), dtype=float32)\n",
      "Tensor(\"Cast_494/x:0\", shape=(), dtype=float32)\n",
      "Tensor(\"Cast_495/x:0\", shape=(), dtype=float32)\n",
      "Tensor(\"Cast_496/x:0\", shape=(), dtype=float32)\n",
      "Tensor(\"Cast_497/x:0\", shape=(), dtype=float32)\n",
      "Tensor(\"Cast_498/x:0\", shape=(), dtype=float32)\n",
      "Tensor(\"Cast_499/x:0\", shape=(), dtype=float32)\n",
      "Tensor(\"Cast_500/x:0\", shape=(), dtype=float32)\n",
      "Tensor(\"Cast_501/x:0\", shape=(), dtype=float32)\n",
      "Tensor(\"Cast_502/x:0\", shape=(), dtype=float32)\n",
      "Tensor(\"Cast_503/x:0\", shape=(), dtype=float32)\n"
     ]
    },
    {
     "ename": "TypeError",
     "evalue": "must be real number, not Tensor",
     "output_type": "error",
     "traceback": [
      "\u001b[0;31m---------------------------------------------------------------------------\u001b[0m",
      "\u001b[0;31mTypeError\u001b[0m                                 Traceback (most recent call last)",
      "\u001b[0;32m<ipython-input-32-6bf765219527>\u001b[0m in \u001b[0;36m<module>\u001b[0;34m()\u001b[0m\n\u001b[1;32m     16\u001b[0m \u001b[0;34m\u001b[0m\u001b[0m\n\u001b[1;32m     17\u001b[0m \u001b[0madd\u001b[0m \u001b[0;34m=\u001b[0m \u001b[0madd\u001b[0m\u001b[0;34m/\u001b[0m\u001b[0;36m1000\u001b[0m\u001b[0;34m\u001b[0m\u001b[0m\n\u001b[0;32m---> 18\u001b[0;31m \u001b[0mprint\u001b[0m\u001b[0;34m(\u001b[0m\u001b[0;34m\"deep %g\"\u001b[0m \u001b[0;34m%\u001b[0m\u001b[0madd\u001b[0m\u001b[0;34m)\u001b[0m\u001b[0;34m\u001b[0m\u001b[0m\n\u001b[0m",
      "\u001b[0;31mTypeError\u001b[0m: must be real number, not Tensor"
     ]
    }
   ],
   "source": [
    "with tf.Session() as sess:\n",
    "  sess.run(tf.global_variables_initializer())\n",
    "  for i in range(1000):\n",
    "    batch = mnist.train.next_batch(50)\n",
    "    if i % 100 == 0:\n",
    "      train_accuracy = accuracy.eval(feed_dict={\n",
    "          x: batch[0], y_: batch[1], keep_prob: 1.0})\n",
    "      print('step %d, training accuracy %g' % (i, train_accuracy))\n",
    "    train_step.run(feed_dict={x: batch[0], y_: batch[1], keep_prob: 0.5})\n",
    "    add = 0\n",
    "  for i in range(100):\n",
    "    batch_tx, batch_ty = mnist.test.next_batch(100)\n",
    "    deep = tf.cast(accuracy.eval(feed_dict={x:batch_tx, y_: batch_ty, keep_prob: 1.0}), tf.float32)\n",
    "    print(deep)\n",
    "    add += deep\n",
    "\n",
    "add = add/1000\n",
    "print(\"deep %g\" % add)"
   ]
  },
  {
   "cell_type": "code",
   "execution_count": null,
   "metadata": {
    "collapsed": true
   },
   "outputs": [],
   "source": [
    "with tf.Session() as sess:\n",
    "  sess.run(tf.global_variables_initializer())\n",
    "  for i in range(1000):\n",
    "    batch = mnist.train.next_batch(50)\n",
    "    if i % 100 == 0:\n",
    "      train_accuracy = accuracy.eval(feed_dict={\n",
    "          x: batch[0], y_: batch[1], keep_prob: 1.0})\n",
    "      print('step %d, training accuracy %g' % (i, train_accuracy))\n",
    "    train_step.run(feed_dict={x: batch[0], y_: batch[1], keep_prob: 0.5})\n",
    "    \n",
    "  for i in range(1000):\n",
    "    batch = mnist.test.next_batch(50)\n",
    "    print()\n",
    "    \n",
    "print('test accuracy %g' % accuracy.eval(feed_dict={x: mnist.test.images, y_: mnist.test.labels, keep_prob: 1.0}))"
   ]
  },
  {
   "cell_type": "code",
   "execution_count": 16,
   "metadata": {},
   "outputs": [
    {
     "ename": "TypeError",
     "evalue": "'tuple' object is not callable",
     "output_type": "error",
     "traceback": [
      "\u001b[0;31m---------------------------------------------------------------------------\u001b[0m",
      "\u001b[0;31mTypeError\u001b[0m                                 Traceback (most recent call last)",
      "\u001b[0;32m<ipython-input-16-2db4b3532ee7>\u001b[0m in \u001b[0;36m<module>\u001b[0;34m()\u001b[0m\n\u001b[0;32m----> 1\u001b[0;31m \u001b[0mprint\u001b[0m\u001b[0;34m(\u001b[0m\u001b[0mmnist\u001b[0m\u001b[0;34m.\u001b[0m\u001b[0mtest\u001b[0m\u001b[0;34m.\u001b[0m\u001b[0mimages\u001b[0m\u001b[0;34m.\u001b[0m\u001b[0mshape\u001b[0m\u001b[0;34m(\u001b[0m\u001b[0;34m)\u001b[0m\u001b[0;34m)\u001b[0m\u001b[0;34m\u001b[0m\u001b[0m\n\u001b[0m",
      "\u001b[0;31mTypeError\u001b[0m: 'tuple' object is not callable"
     ]
    }
   ],
   "source": []
  }
 ],
 "metadata": {
  "kernelspec": {
   "display_name": "Python 3",
   "language": "python",
   "name": "python3"
  },
  "language_info": {
   "codemirror_mode": {
    "name": "ipython",
    "version": 3
   },
   "file_extension": ".py",
   "mimetype": "text/x-python",
   "name": "python",
   "nbconvert_exporter": "python",
   "pygments_lexer": "ipython3",
   "version": "3.6.1"
  }
 },
 "nbformat": 4,
 "nbformat_minor": 2
}
