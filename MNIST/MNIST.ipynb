{
 "cells": [
  {
   "cell_type": "code",
   "execution_count": 1,
   "metadata": {},
   "outputs": [
    {
     "name": "stderr",
     "output_type": "stream",
     "text": [
      "/home/siddhant/anaconda3/lib/python3.6/importlib/_bootstrap.py:205: RuntimeWarning: compiletime version 3.5 of module 'tensorflow.python.framework.fast_tensor_util' does not match runtime version 3.6\n",
      "  return f(*args, **kwds)\n"
     ]
    },
    {
     "name": "stdout",
     "output_type": "stream",
     "text": [
      "Extracting MNIST_data/train-images-idx3-ubyte.gz\n",
      "Extracting MNIST_data/train-labels-idx1-ubyte.gz\n",
      "Extracting MNIST_data/t10k-images-idx3-ubyte.gz\n",
      "Extracting MNIST_data/t10k-labels-idx1-ubyte.gz\n"
     ]
    }
   ],
   "source": [
    "#Downloading dataset\n",
    "from tensorflow.examples.tutorials.mnist import input_data\n",
    "mnist = input_data.read_data_sets('MNIST_data', one_hot=True)"
   ]
  },
  {
   "cell_type": "code",
   "execution_count": 2,
   "metadata": {
    "collapsed": true
   },
   "outputs": [],
   "source": [
    "#Create session\n",
    "import tensorflow as tf\n",
    "sess = tf.InteractiveSession()"
   ]
  },
  {
   "cell_type": "code",
   "execution_count": 3,
   "metadata": {
    "collapsed": true
   },
   "outputs": [],
   "source": [
    "#Create placeholder tensors in appropriate shape\n",
    "\n",
    "#28x28 image size\n",
    "x = tf.placeholder(tf.float32, shape=[None, 784])\n",
    "#Ten possible outputs\n",
    "y_ = tf.placeholder(tf.float32, shape=[None, 10])"
   ]
  },
  {
   "cell_type": "code",
   "execution_count": 4,
   "metadata": {
    "collapsed": true
   },
   "outputs": [],
   "source": [
    "#Initialize matrices with all zeroes\n",
    "W = tf.Variable(tf.ones([784,10]))\n",
    "b = tf.Variable(tf.ones([10]))"
   ]
  },
  {
   "cell_type": "code",
   "execution_count": 5,
   "metadata": {
    "collapsed": true
   },
   "outputs": [],
   "source": [
    "#Initalize variables into the session\n",
    "sess.run(tf.global_variables_initializer())"
   ]
  },
  {
   "cell_type": "code",
   "execution_count": 6,
   "metadata": {
    "collapsed": true
   },
   "outputs": [],
   "source": [
    "#Basic Regression\n",
    "y = tf.matmul(x,W) + b"
   ]
  },
  {
   "cell_type": "code",
   "execution_count": 7,
   "metadata": {
    "collapsed": true
   },
   "outputs": [],
   "source": [
    "#Softmax loss function\n",
    "cross_entropy = tf.reduce_mean(\n",
    "    tf.nn.softmax_cross_entropy_with_logits(labels=y_, logits=y))"
   ]
  },
  {
   "cell_type": "code",
   "execution_count": 8,
   "metadata": {
    "collapsed": true
   },
   "outputs": [],
   "source": [
    "#Training the Data\n",
    "train_step = tf.train.GradientDescentOptimizer(0.001).minimize(cross_entropy)"
   ]
  },
  {
   "cell_type": "code",
   "execution_count": 9,
   "metadata": {
    "collapsed": true
   },
   "outputs": [],
   "source": [
    "#Batch training\n",
    "for _ in range(100):\n",
    "  batch = mnist.train.next_batch(1000)\n",
    "  train_step.run(feed_dict={x: batch[0], y_: batch[1]})"
   ]
  },
  {
   "cell_type": "code",
   "execution_count": 10,
   "metadata": {
    "collapsed": true
   },
   "outputs": [],
   "source": [
    "#Prediction\n",
    "correct_prediction = tf.equal(tf.argmax(y,1), tf.argmax(y_,1))"
   ]
  },
  {
   "cell_type": "code",
   "execution_count": 11,
   "metadata": {},
   "outputs": [
    {
     "name": "stdout",
     "output_type": "stream",
     "text": [
      "0.7005\n"
     ]
    }
   ],
   "source": [
    "#Checking on test images\n",
    "accuracy = tf.reduce_mean(tf.cast(correct_prediction, tf.float32))\n",
    "print(accuracy.eval(feed_dict={x: mnist.test.images, y_: mnist.test.labels}))"
   ]
  },
  {
   "cell_type": "code",
   "execution_count": 12,
   "metadata": {
    "collapsed": true
   },
   "outputs": [],
   "source": [
    "def weight_variable(shape):\n",
    "  initial = tf.truncated_normal(shape, stddev=0.1)\n",
    "  return tf.Variable(initial)\n",
    "\n",
    "def bias_variable(shape):\n",
    "  initial = tf.constant(0.1, shape=shape)\n",
    "  return tf.Variable(initial)"
   ]
  },
  {
   "cell_type": "code",
   "execution_count": 13,
   "metadata": {
    "collapsed": true
   },
   "outputs": [],
   "source": [
    "def conv2d(x, W):\n",
    "  return tf.nn.conv2d(x, W, strides=[1, 1, 1, 1], padding='SAME')\n",
    "\n",
    "def max_pool_2x2(x):\n",
    "  return tf.nn.max_pool(x, ksize=[1, 2, 2, 1],\n",
    "                        strides=[1, 2, 2, 1], padding='SAME')"
   ]
  },
  {
   "cell_type": "code",
   "execution_count": 14,
   "metadata": {
    "collapsed": true
   },
   "outputs": [],
   "source": [
    "W_conv1 = weight_variable([5, 5, 1, 32])\n",
    "b_conv1 = bias_variable([32])"
   ]
  },
  {
   "cell_type": "code",
   "execution_count": 15,
   "metadata": {
    "collapsed": true
   },
   "outputs": [],
   "source": [
    "x_image = tf.reshape(x, [-1, 28, 28, 1])"
   ]
  },
  {
   "cell_type": "code",
   "execution_count": 16,
   "metadata": {
    "collapsed": true
   },
   "outputs": [],
   "source": [
    "#Input layer\n",
    "h_conv1 = tf.nn.relu(conv2d(x_image, W_conv1) + b_conv1)\n",
    "h_pool1 = max_pool_2x2(h_conv1)"
   ]
  },
  {
   "cell_type": "code",
   "execution_count": 17,
   "metadata": {
    "collapsed": true
   },
   "outputs": [],
   "source": [
    "#First Hidden Layers\n",
    "W_conv2 = weight_variable([5, 5, 32, 64])\n",
    "b_conv2 = bias_variable([64])\n",
    "\n",
    "h_conv2 = tf.nn.relu(conv2d(h_pool1, W_conv2) + b_conv2)\n",
    "h_pool2 = max_pool_2x2(h_conv2)"
   ]
  },
  {
   "cell_type": "code",
   "execution_count": 18,
   "metadata": {
    "collapsed": true
   },
   "outputs": [],
   "source": [
    "#Second Hidden Layer\n",
    "W_fc1 = weight_variable([7 * 7 * 64, 1024])\n",
    "b_fc1 = bias_variable([1024])\n",
    "\n",
    "h_pool2_flat = tf.reshape(h_pool2, [-1, 7*7*64])\n",
    "h_fc1 = tf.nn.relu(tf.matmul(h_pool2_flat, W_fc1) + b_fc1)"
   ]
  },
  {
   "cell_type": "code",
   "execution_count": 19,
   "metadata": {
    "collapsed": true
   },
   "outputs": [],
   "source": [
    "keep_prob = tf.placeholder(tf.float32)\n",
    "h_fc1_drop = tf.nn.dropout(h_fc1, keep_prob)"
   ]
  },
  {
   "cell_type": "code",
   "execution_count": 20,
   "metadata": {
    "collapsed": true
   },
   "outputs": [],
   "source": [
    "W_fc2 = weight_variable([1024, 10])\n",
    "b_fc2 = bias_variable([10])\n",
    "\n",
    "y_conv = tf.matmul(h_fc1_drop, W_fc2) + b_fc2"
   ]
  },
  {
   "cell_type": "code",
   "execution_count": 21,
   "metadata": {
    "collapsed": true
   },
   "outputs": [],
   "source": [
    "cross_entropy = tf.reduce_mean(\n",
    "    tf.nn.softmax_cross_entropy_with_logits(labels=y_, logits=y_conv))\n",
    "train_step = tf.train.AdamOptimizer(1e-4).minimize(cross_entropy)\n",
    "correct_prediction = tf.equal(tf.argmax(y_conv, 1), tf.argmax(y_, 1))\n",
    "accuracy = tf.reduce_mean(tf.cast(correct_prediction, tf.float32))"
   ]
  },
  {
   "cell_type": "code",
   "execution_count": null,
   "metadata": {
    "collapsed": true
   },
   "outputs": [],
   "source": [
    "\n",
    "batch_tx, batch_ty = mnist.test.next_batch(10)\n",
    "print(\"test accuracy %g\"%accuracy.eval(feed_dict={x:batch_tx, y_: batch_ty, keep_prob: 1.0}))"
   ]
  },
  {
   "cell_type": "code",
   "execution_count": 33,
   "metadata": {},
   "outputs": [
    {
     "name": "stdout",
     "output_type": "stream",
     "text": [
      "step 0, training accuracy 0.16\n",
      "step 100, training accuracy 0.82\n",
      "step 200, training accuracy 0.92\n",
      "step 300, training accuracy 0.96\n",
      "step 400, training accuracy 0.94\n",
      "step 500, training accuracy 0.94\n",
      "step 600, training accuracy 0.94\n",
      "step 700, training accuracy 1\n",
      "step 800, training accuracy 1\n",
      "step 900, training accuracy 0.9\n",
      "Tensor(\"Cast_504/x:0\", shape=(), dtype=float32)\n",
      "Tensor(\"Cast_505/x:0\", shape=(), dtype=float32)\n",
      "Tensor(\"Cast_506/x:0\", shape=(), dtype=float32)\n",
      "Tensor(\"Cast_507/x:0\", shape=(), dtype=float32)\n",
      "Tensor(\"Cast_508/x:0\", shape=(), dtype=float32)\n",
      "Tensor(\"Cast_509/x:0\", shape=(), dtype=float32)\n",
      "Tensor(\"Cast_510/x:0\", shape=(), dtype=float32)\n",
      "Tensor(\"Cast_511/x:0\", shape=(), dtype=float32)\n",
      "Tensor(\"Cast_512/x:0\", shape=(), dtype=float32)\n",
      "Tensor(\"Cast_513/x:0\", shape=(), dtype=float32)\n",
      "Tensor(\"Cast_514/x:0\", shape=(), dtype=float32)\n",
      "Tensor(\"Cast_515/x:0\", shape=(), dtype=float32)\n",
      "Tensor(\"Cast_516/x:0\", shape=(), dtype=float32)\n",
      "Tensor(\"Cast_517/x:0\", shape=(), dtype=float32)\n",
      "Tensor(\"Cast_518/x:0\", shape=(), dtype=float32)\n",
      "Tensor(\"Cast_519/x:0\", shape=(), dtype=float32)\n",
      "Tensor(\"Cast_520/x:0\", shape=(), dtype=float32)\n",
      "Tensor(\"Cast_521/x:0\", shape=(), dtype=float32)\n",
      "Tensor(\"Cast_522/x:0\", shape=(), dtype=float32)\n",
      "Tensor(\"Cast_523/x:0\", shape=(), dtype=float32)\n",
      "Tensor(\"Cast_524/x:0\", shape=(), dtype=float32)\n",
      "Tensor(\"Cast_525/x:0\", shape=(), dtype=float32)\n",
      "Tensor(\"Cast_526/x:0\", shape=(), dtype=float32)\n",
      "Tensor(\"Cast_527/x:0\", shape=(), dtype=float32)\n",
      "Tensor(\"Cast_528/x:0\", shape=(), dtype=float32)\n",
      "Tensor(\"Cast_529/x:0\", shape=(), dtype=float32)\n",
      "Tensor(\"Cast_530/x:0\", shape=(), dtype=float32)\n",
      "Tensor(\"Cast_531/x:0\", shape=(), dtype=float32)\n",
      "Tensor(\"Cast_532/x:0\", shape=(), dtype=float32)\n",
      "Tensor(\"Cast_533/x:0\", shape=(), dtype=float32)\n",
      "Tensor(\"Cast_534/x:0\", shape=(), dtype=float32)\n",
      "Tensor(\"Cast_535/x:0\", shape=(), dtype=float32)\n",
      "Tensor(\"Cast_536/x:0\", shape=(), dtype=float32)\n",
      "Tensor(\"Cast_537/x:0\", shape=(), dtype=float32)\n",
      "Tensor(\"Cast_538/x:0\", shape=(), dtype=float32)\n",
      "Tensor(\"Cast_539/x:0\", shape=(), dtype=float32)\n",
      "Tensor(\"Cast_540/x:0\", shape=(), dtype=float32)\n",
      "Tensor(\"Cast_541/x:0\", shape=(), dtype=float32)\n",
      "Tensor(\"Cast_542/x:0\", shape=(), dtype=float32)\n",
      "Tensor(\"Cast_543/x:0\", shape=(), dtype=float32)\n",
      "Tensor(\"Cast_544/x:0\", shape=(), dtype=float32)\n",
      "Tensor(\"Cast_545/x:0\", shape=(), dtype=float32)\n",
      "Tensor(\"Cast_546/x:0\", shape=(), dtype=float32)\n",
      "Tensor(\"Cast_547/x:0\", shape=(), dtype=float32)\n",
      "Tensor(\"Cast_548/x:0\", shape=(), dtype=float32)\n",
      "Tensor(\"Cast_549/x:0\", shape=(), dtype=float32)\n",
      "Tensor(\"Cast_550/x:0\", shape=(), dtype=float32)\n",
      "Tensor(\"Cast_551/x:0\", shape=(), dtype=float32)\n",
      "Tensor(\"Cast_552/x:0\", shape=(), dtype=float32)\n",
      "Tensor(\"Cast_553/x:0\", shape=(), dtype=float32)\n",
      "Tensor(\"Cast_554/x:0\", shape=(), dtype=float32)\n",
      "Tensor(\"Cast_555/x:0\", shape=(), dtype=float32)\n",
      "Tensor(\"Cast_556/x:0\", shape=(), dtype=float32)\n",
      "Tensor(\"Cast_557/x:0\", shape=(), dtype=float32)\n",
      "Tensor(\"Cast_558/x:0\", shape=(), dtype=float32)\n",
      "Tensor(\"Cast_559/x:0\", shape=(), dtype=float32)\n",
      "Tensor(\"Cast_560/x:0\", shape=(), dtype=float32)\n",
      "Tensor(\"Cast_561/x:0\", shape=(), dtype=float32)\n",
      "Tensor(\"Cast_562/x:0\", shape=(), dtype=float32)\n",
      "Tensor(\"Cast_563/x:0\", shape=(), dtype=float32)\n",
      "Tensor(\"Cast_564/x:0\", shape=(), dtype=float32)\n",
      "Tensor(\"Cast_565/x:0\", shape=(), dtype=float32)\n",
      "Tensor(\"Cast_566/x:0\", shape=(), dtype=float32)\n",
      "Tensor(\"Cast_567/x:0\", shape=(), dtype=float32)\n",
      "Tensor(\"Cast_568/x:0\", shape=(), dtype=float32)\n",
      "Tensor(\"Cast_569/x:0\", shape=(), dtype=float32)\n",
      "Tensor(\"Cast_570/x:0\", shape=(), dtype=float32)\n",
      "Tensor(\"Cast_571/x:0\", shape=(), dtype=float32)\n",
      "Tensor(\"Cast_572/x:0\", shape=(), dtype=float32)\n",
      "Tensor(\"Cast_573/x:0\", shape=(), dtype=float32)\n",
      "Tensor(\"Cast_574/x:0\", shape=(), dtype=float32)\n",
      "Tensor(\"Cast_575/x:0\", shape=(), dtype=float32)\n",
      "Tensor(\"Cast_576/x:0\", shape=(), dtype=float32)\n",
      "Tensor(\"Cast_577/x:0\", shape=(), dtype=float32)\n",
      "Tensor(\"Cast_578/x:0\", shape=(), dtype=float32)\n",
      "Tensor(\"Cast_579/x:0\", shape=(), dtype=float32)\n",
      "Tensor(\"Cast_580/x:0\", shape=(), dtype=float32)\n",
      "Tensor(\"Cast_581/x:0\", shape=(), dtype=float32)\n",
      "Tensor(\"Cast_582/x:0\", shape=(), dtype=float32)\n",
      "Tensor(\"Cast_583/x:0\", shape=(), dtype=float32)\n",
      "Tensor(\"Cast_584/x:0\", shape=(), dtype=float32)\n",
      "Tensor(\"Cast_585/x:0\", shape=(), dtype=float32)\n",
      "Tensor(\"Cast_586/x:0\", shape=(), dtype=float32)\n",
      "Tensor(\"Cast_587/x:0\", shape=(), dtype=float32)\n",
      "Tensor(\"Cast_588/x:0\", shape=(), dtype=float32)\n",
      "Tensor(\"Cast_589/x:0\", shape=(), dtype=float32)\n",
      "Tensor(\"Cast_590/x:0\", shape=(), dtype=float32)\n",
      "Tensor(\"Cast_591/x:0\", shape=(), dtype=float32)\n",
      "Tensor(\"Cast_592/x:0\", shape=(), dtype=float32)\n",
      "Tensor(\"Cast_593/x:0\", shape=(), dtype=float32)\n",
      "Tensor(\"Cast_594/x:0\", shape=(), dtype=float32)\n",
      "Tensor(\"Cast_595/x:0\", shape=(), dtype=float32)\n",
      "Tensor(\"Cast_596/x:0\", shape=(), dtype=float32)\n",
      "Tensor(\"Cast_597/x:0\", shape=(), dtype=float32)\n",
      "Tensor(\"Cast_598/x:0\", shape=(), dtype=float32)\n",
      "Tensor(\"Cast_599/x:0\", shape=(), dtype=float32)\n",
      "Tensor(\"Cast_600/x:0\", shape=(), dtype=float32)\n",
      "Tensor(\"Cast_601/x:0\", shape=(), dtype=float32)\n",
      "Tensor(\"Cast_602/x:0\", shape=(), dtype=float32)\n",
      "Tensor(\"Cast_603/x:0\", shape=(), dtype=float32)\n"
     ]
    },
    {
     "ename": "TypeError",
     "evalue": "must be real number, not Tensor",
     "output_type": "error",
     "traceback": [
      "\u001b[0;31m---------------------------------------------------------------------------\u001b[0m",
      "\u001b[0;31mTypeError\u001b[0m                                 Traceback (most recent call last)",
      "\u001b[0;32m<ipython-input-33-1334ae10c562>\u001b[0m in \u001b[0;36m<module>\u001b[0;34m()\u001b[0m\n\u001b[1;32m     16\u001b[0m \u001b[0;34m\u001b[0m\u001b[0m\n\u001b[1;32m     17\u001b[0m \u001b[0madd\u001b[0m \u001b[0;34m=\u001b[0m \u001b[0madd\u001b[0m\u001b[0;34m/\u001b[0m\u001b[0;36m1000\u001b[0m\u001b[0;34m\u001b[0m\u001b[0m\n\u001b[0;32m---> 18\u001b[0;31m \u001b[0mprint\u001b[0m\u001b[0;34m(\u001b[0m\u001b[0;34m\"deep %g\"\u001b[0m \u001b[0;34m%\u001b[0m \u001b[0madd\u001b[0m\u001b[0;34m)\u001b[0m\u001b[0;34m\u001b[0m\u001b[0m\n\u001b[0m",
      "\u001b[0;31mTypeError\u001b[0m: must be real number, not Tensor"
     ]
    }
   ],
   "source": [
    "with tf.Session() as sess:\n",
    "  sess.run(tf.global_variables_initializer())\n",
    "  for i in range(1000):\n",
    "    batch = mnist.train.next_batch(50)\n",
    "    if i % 100 == 0:\n",
    "      train_accuracy = accuracy.eval(feed_dict={\n",
    "          x: batch[0], y_: batch[1], keep_prob: 1.0})\n",
    "      print('step %d, training accuracy %g' % (i, train_accuracy))\n",
    "    train_step.run(feed_dict={x: batch[0], y_: batch[1], keep_prob: 0.5})\n",
    "    add = 0\n",
    "  for i in range(100):\n",
    "    batch_tx, batch_ty = mnist.test.next_batch(100)\n",
    "    deep = tf.cast(accuracy.eval(feed_dict={x:batch_tx, y_: batch_ty, keep_prob: 1.0}), tf.float32)\n",
    "    print(deep)\n",
    "    add += deep\n",
    "\n",
    "add = add/1000\n",
    "print(\"deep %g\" % add)"
   ]
  },
  {
   "cell_type": "code",
   "execution_count": null,
   "metadata": {
    "collapsed": true
   },
   "outputs": [],
   "source": [
    "with tf.Session() as sess:\n",
    "  sess.run(tf.global_variables_initializer())\n",
    "  for i in range(1000):\n",
    "    batch = mnist.train.next_batch(50)\n",
    "    if i % 100 == 0:\n",
    "      train_accuracy = accuracy.eval(feed_dict={\n",
    "          x: batch[0], y_: batch[1], keep_prob: 1.0})\n",
    "      print('step %d, training accuracy %g' % (i, train_accuracy))\n",
    "    train_step.run(feed_dict={x: batch[0], y_: batch[1], keep_prob: 0.5})\n",
    "    \n",
    "  for i in range(1000):\n",
    "    batch = mnist.test.next_batch(50)\n",
    "    print()\n",
    "    \n",
    "print('test accuracy %g' % accuracy.eval(feed_dict={x: mnist.test.images, y_: mnist.test.labels, keep_prob: 1.0}))"
   ]
  },
  {
   "cell_type": "code",
   "execution_count": 16,
   "metadata": {},
   "outputs": [
    {
     "ename": "TypeError",
     "evalue": "'tuple' object is not callable",
     "output_type": "error",
     "traceback": [
      "\u001b[0;31m---------------------------------------------------------------------------\u001b[0m",
      "\u001b[0;31mTypeError\u001b[0m                                 Traceback (most recent call last)",
      "\u001b[0;32m<ipython-input-16-2db4b3532ee7>\u001b[0m in \u001b[0;36m<module>\u001b[0;34m()\u001b[0m\n\u001b[0;32m----> 1\u001b[0;31m \u001b[0mprint\u001b[0m\u001b[0;34m(\u001b[0m\u001b[0mmnist\u001b[0m\u001b[0;34m.\u001b[0m\u001b[0mtest\u001b[0m\u001b[0;34m.\u001b[0m\u001b[0mimages\u001b[0m\u001b[0;34m.\u001b[0m\u001b[0mshape\u001b[0m\u001b[0;34m(\u001b[0m\u001b[0;34m)\u001b[0m\u001b[0;34m)\u001b[0m\u001b[0;34m\u001b[0m\u001b[0m\n\u001b[0m",
      "\u001b[0;31mTypeError\u001b[0m: 'tuple' object is not callable"
     ]
    }
   ],
   "source": []
  }
 ],
 "metadata": {
  "kernelspec": {
   "display_name": "Python 3",
   "language": "python",
   "name": "python3"
  },
  "language_info": {
   "codemirror_mode": {
    "name": "ipython",
    "version": 3
   },
   "file_extension": ".py",
   "mimetype": "text/x-python",
   "name": "python",
   "nbconvert_exporter": "python",
   "pygments_lexer": "ipython3",
   "version": "3.6.1"
  }
 },
 "nbformat": 4,
 "nbformat_minor": 2
}
